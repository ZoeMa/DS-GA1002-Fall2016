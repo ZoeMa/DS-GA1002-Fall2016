{
 "cells": [
  {
   "cell_type": "code",
   "execution_count": 1,
   "metadata": {
    "collapsed": false
   },
   "outputs": [
    {
     "name": "stderr",
     "output_type": "stream",
     "text": [
      "//anaconda/lib/python3.5/site-packages/matplotlib/font_manager.py:273: UserWarning: Matplotlib is building the font cache using fc-list. This may take a moment.\n",
      "  warnings.warn('Matplotlib is building the font cache using fc-list. This may take a moment.')\n",
      "//anaconda/lib/python3.5/site-packages/matplotlib/font_manager.py:273: UserWarning: Matplotlib is building the font cache using fc-list. This may take a moment.\n",
      "  warnings.warn('Matplotlib is building the font cache using fc-list. This may take a moment.')\n"
     ]
    }
   ],
   "source": [
    "import pandas as pd\n",
    "import numpy as np\n",
    "import matplotlib.pyplot as plt\n",
    "import scipy, scipy.stats\n",
    "%matplotlib inline\n",
    "from ipywidgets import interact"
   ]
  },
  {
   "cell_type": "code",
   "execution_count": 7,
   "metadata": {
    "collapsed": false,
    "scrolled": true
   },
   "outputs": [
    {
     "name": "stdout",
     "output_type": "stream",
     "text": [
      "Total number of data points:  14270479\n"
     ]
    },
    {
     "data": {
      "text/html": [
       "<div>\n",
       "<table border=\"1\" class=\"dataframe\">\n",
       "  <thead>\n",
       "    <tr style=\"text-align: right;\">\n",
       "      <th></th>\n",
       "      <th>Dispatching_base_num</th>\n",
       "      <th>Pickup_date</th>\n",
       "      <th>Affiliated_base_num</th>\n",
       "      <th>locationID</th>\n",
       "    </tr>\n",
       "  </thead>\n",
       "  <tbody>\n",
       "    <tr>\n",
       "      <th>0</th>\n",
       "      <td>B02617</td>\n",
       "      <td>2015-05-17 09:47:00</td>\n",
       "      <td>B02617</td>\n",
       "      <td>141</td>\n",
       "    </tr>\n",
       "    <tr>\n",
       "      <th>1</th>\n",
       "      <td>B02617</td>\n",
       "      <td>2015-05-17 09:47:00</td>\n",
       "      <td>B02617</td>\n",
       "      <td>65</td>\n",
       "    </tr>\n",
       "    <tr>\n",
       "      <th>2</th>\n",
       "      <td>B02617</td>\n",
       "      <td>2015-05-17 09:47:00</td>\n",
       "      <td>B02617</td>\n",
       "      <td>100</td>\n",
       "    </tr>\n",
       "  </tbody>\n",
       "</table>\n",
       "</div>"
      ],
      "text/plain": [
       "  Dispatching_base_num          Pickup_date Affiliated_base_num  locationID\n",
       "0               B02617  2015-05-17 09:47:00              B02617         141\n",
       "1               B02617  2015-05-17 09:47:00              B02617          65\n",
       "2               B02617  2015-05-17 09:47:00              B02617         100"
      ]
     },
     "execution_count": 7,
     "metadata": {},
     "output_type": "execute_result"
    }
   ],
   "source": [
    "\n",
    "PATH_DATA = \"/Users/vkobzar/GitHub/uber-tlc-foil-response/uber-trip-data/\"\n",
    "# We will stick to the uber-raw-data-janjune-15.csv file only...\n",
    "all_pickups = pd.read_csv(PATH_DATA + 'uber-raw-data-janjune-15.csv')\n",
    "print ('Total number of data points: ', len(all_pickups))\n",
    "all_pickups[:3] "
   ]
  },
  {
   "cell_type": "code",
   "execution_count": 9,
   "metadata": {
    "collapsed": false
   },
   "outputs": [
    {
     "name": "stdout",
     "output_type": "stream",
     "text": [
      "possible pick-up hours:\n",
      "[0, 1, 2, 3, 4, 5, 6, 7, 8, 9, 10, 11, 12, 13, 14, 15, 16, 17, 18, 19, 20, 21, 22, 23]\n"
     ]
    }
   ],
   "source": [
    "\n",
    "# isolate the hour information from the full date and add as a column\n",
    "all_pickups['Pickup_hour'] = all_pickups['Pickup_date'].apply(lambda x: int(x[11:13]))\n",
    "print ('possible pick-up hours:')\n",
    "print (sorted(all_pickups.Pickup_hour.unique()))"
   ]
  },
  {
   "cell_type": "code",
   "execution_count": 13,
   "metadata": {
    "collapsed": false
   },
   "outputs": [
    {
     "name": "stdout",
     "output_type": "stream",
     "text": [
      "number of data points used in the example Bernoulli case:  58045\n"
     ]
    },
    {
     "data": {
      "text/html": [
       "<div>\n",
       "<table border=\"1\" class=\"dataframe\">\n",
       "  <thead>\n",
       "    <tr style=\"text-align: right;\">\n",
       "      <th></th>\n",
       "      <th>Dispatching_base_num</th>\n",
       "      <th>Pickup_date</th>\n",
       "      <th>Affiliated_base_num</th>\n",
       "      <th>locationID</th>\n",
       "      <th>Pickup_hour</th>\n",
       "      <th>Pickup_day</th>\n",
       "    </tr>\n",
       "  </thead>\n",
       "  <tbody>\n",
       "    <tr>\n",
       "      <th>44141</th>\n",
       "      <td>B02598</td>\n",
       "      <td>2015-01-01 15:43:04</td>\n",
       "      <td>B02598</td>\n",
       "      <td>89</td>\n",
       "      <td>15</td>\n",
       "      <td>2015-01-01</td>\n",
       "    </tr>\n",
       "    <tr>\n",
       "      <th>44142</th>\n",
       "      <td>B02598</td>\n",
       "      <td>2015-01-01 17:09:38</td>\n",
       "      <td>B02598</td>\n",
       "      <td>148</td>\n",
       "      <td>17</td>\n",
       "      <td>2015-01-01</td>\n",
       "    </tr>\n",
       "    <tr>\n",
       "      <th>44143</th>\n",
       "      <td>B02598</td>\n",
       "      <td>2015-01-01 02:10:01</td>\n",
       "      <td>B02789</td>\n",
       "      <td>164</td>\n",
       "      <td>2</td>\n",
       "      <td>2015-01-01</td>\n",
       "    </tr>\n",
       "  </tbody>\n",
       "</table>\n",
       "</div>"
      ],
      "text/plain": [
       "      Dispatching_base_num          Pickup_date Affiliated_base_num  \\\n",
       "44141               B02598  2015-01-01 15:43:04              B02598   \n",
       "44142               B02598  2015-01-01 17:09:38              B02598   \n",
       "44143               B02598  2015-01-01 02:10:01              B02789   \n",
       "\n",
       "       locationID  Pickup_hour  Pickup_day  \n",
       "44141          89           15  2015-01-01  \n",
       "44142         148           17  2015-01-01  \n",
       "44143         164            2  2015-01-01  "
      ]
     },
     "execution_count": 13,
     "metadata": {},
     "output_type": "execute_result"
    }
   ],
   "source": [
    "# let's focus on 2015-01-01 by isolating the day information\n",
    "all_pickups['Pickup_day'] = all_pickups['Pickup_date'].apply(lambda x: x[0:10])\n",
    "small_data = all_pickups.groupby('Pickup_day').get_group('2015-01-01') \n",
    "print ('number of data points used in the example Bernoulli case: ', len(small_data))\n",
    "small_data[:3]"
   ]
  },
  {
   "cell_type": "code",
   "execution_count": 14,
   "metadata": {
    "collapsed": false,
    "scrolled": true
   },
   "outputs": [
    {
     "data": {
      "image/png": "[encoded data removed]",
      "text/plain": [
       "<matplotlib.figure.Figure at 0x1041835c0>"
      ]
     },
     "metadata": {},
     "output_type": "display_data"
    }
   ],
   "source": [
    "\n",
    "def get_p_before_threshold(threshold, data):\n",
    "    return len(data[data['Pickup_hour'] < threshold])/float(len(data))\n",
    "\n",
    "def plot_bernoulli(threshold):\n",
    "    p = get_p_before_threshold(threshold, small_data)\n",
    "    plt.bar([-0.1, 0.9], [p, 1 - p], width=0.2)\n",
    "    plt.ylim(0,1)\n",
    "    plt.show()\n",
    "    \n",
    "# play with the slider to change the threshold hour\n",
    "interact(plot_bernoulli, threshold=(0, 24, 1));"
   ]
  },
  {
   "cell_type": "code",
   "execution_count": 15,
   "metadata": {
    "collapsed": false
   },
   "outputs": [
    {
     "data": {
      "image/png": "[encoded data removed]",
      "text/plain": [
       "<matplotlib.figure.Figure at 0x117055b00>"
      ]
     },
     "metadata": {},
     "output_type": "display_data"
    }
   ],
   "source": [
    "def get_times(loc_ID):\n",
    "    finding_times = []\n",
    "    t_current = all_pickups[all_pickups['locationID'] == loc_ID].index[0]\n",
    "    for t_next in all_pickups[all_pickups['locationID'] == loc_ID].index[1:]:\n",
    "        finding_times.append(t_next - t_current)\n",
    "        t_current = t_next\n",
    "    return finding_times\n",
    "\n",
    "def plot_geometric(loc_ID):\n",
    "    times = get_times(loc_ID)\n",
    "    plt.hist(times, bins=50, normed=True)\n",
    "    plt.show()\n",
    "    \n",
    "interact(plot_geometric, loc_ID=(1, 265, 1));"
   ]
  },
  {
   "cell_type": "code",
   "execution_count": 17,
   "metadata": {
    "collapsed": false
   },
   "outputs": [
    {
     "data": {
      "text/html": [
       "<div>\n",
       "<table border=\"1\" class=\"dataframe\">\n",
       "  <thead>\n",
       "    <tr style=\"text-align: right;\">\n",
       "      <th></th>\n",
       "      <th>Dispatching_base_num</th>\n",
       "      <th>Pickup_date</th>\n",
       "      <th>Affiliated_base_num</th>\n",
       "      <th>locationID</th>\n",
       "      <th>Pickup_hour</th>\n",
       "      <th>Pickup_day</th>\n",
       "      <th>Borough</th>\n",
       "      <th>Zone</th>\n",
       "    </tr>\n",
       "  </thead>\n",
       "  <tbody>\n",
       "    <tr>\n",
       "      <th>605</th>\n",
       "      <td>B02598</td>\n",
       "      <td>2015-01-01 13:01:14</td>\n",
       "      <td>B02765</td>\n",
       "      <td>141</td>\n",
       "      <td>13</td>\n",
       "      <td>2015-01-01</td>\n",
       "      <td>Manhattan</td>\n",
       "      <td>Lenox Hill West</td>\n",
       "    </tr>\n",
       "    <tr>\n",
       "      <th>610</th>\n",
       "      <td>B02598</td>\n",
       "      <td>2015-01-01 13:54:04</td>\n",
       "      <td>B02598</td>\n",
       "      <td>141</td>\n",
       "      <td>13</td>\n",
       "      <td>2015-01-01</td>\n",
       "      <td>Manhattan</td>\n",
       "      <td>Lenox Hill West</td>\n",
       "    </tr>\n",
       "    <tr>\n",
       "      <th>611</th>\n",
       "      <td>B02598</td>\n",
       "      <td>2015-01-01 00:24:17</td>\n",
       "      <td>B02598</td>\n",
       "      <td>141</td>\n",
       "      <td>0</td>\n",
       "      <td>2015-01-01</td>\n",
       "      <td>Manhattan</td>\n",
       "      <td>Lenox Hill West</td>\n",
       "    </tr>\n",
       "  </tbody>\n",
       "</table>\n",
       "</div>"
      ],
      "text/plain": [
       "    Dispatching_base_num          Pickup_date Affiliated_base_num  locationID  \\\n",
       "605               B02598  2015-01-01 13:01:14              B02765         141   \n",
       "610               B02598  2015-01-01 13:54:04              B02598         141   \n",
       "611               B02598  2015-01-01 00:24:17              B02598         141   \n",
       "\n",
       "     Pickup_hour  Pickup_day    Borough             Zone  \n",
       "605           13  2015-01-01  Manhattan  Lenox Hill West  \n",
       "610           13  2015-01-01  Manhattan  Lenox Hill West  \n",
       "611            0  2015-01-01  Manhattan  Lenox Hill West  "
      ]
     },
     "execution_count": 17,
     "metadata": {},
     "output_type": "execute_result"
    }
   ],
   "source": [
    "zones = pd.read_csv(PATH_DATA + 'taxi-zone-lookup.csv').rename(columns={\"LocationID\": \"locationID\"})\n",
    "all_pickups_zones = all_pickups.merge(zones, how='inner', on='locationID')\n",
    "data = all_pickups_zones.groupby('Pickup_day').get_group('2015-01-01') # again focus on 2015-01-01\n",
    "data[:3]"
   ]
  },
  {
   "cell_type": "code",
   "execution_count": 18,
   "metadata": {
    "collapsed": false
   },
   "outputs": [
    {
     "data": {
      "image/png": "[encoded data removed]",
      "text/plain": [
       "<matplotlib.figure.Figure at 0x117f07978>"
      ]
     },
     "metadata": {},
     "output_type": "display_data"
    }
   ],
   "source": [
    "def plot_binomial(n):\n",
    "    k_observed = []\n",
    "    for i in range(1000):\n",
    "        idx = np.random.randint(0, len(data.index), n)\n",
    "        k_observed.append(len(data.iloc[idx].groupby('Borough').get_group('Manhattan')))\n",
    "    plt.hist(k_observed, max(k_observed) - min(k_observed) + 1, normed=True)\n",
    "    plt.show()\n",
    "\n",
    "interact(plot_binomial, n=(1,40,1));"
   ]
  },
  {
   "cell_type": "code",
   "execution_count": 19,
   "metadata": {
    "collapsed": false
   },
   "outputs": [
    {
     "data": {
      "image/png": "[encoded data removed]",
      "text/plain": [
       "<matplotlib.figure.Figure at 0x117ee3e48>"
      ]
     },
     "metadata": {},
     "output_type": "display_data"
    }
   ],
   "source": [
    "def plot_poisson(n):\n",
    "    k_experimental = []\n",
    "    for i in range(1500):\n",
    "        idx = np.random.randint(0, len(data.index), n)\n",
    "        data_temp = data.iloc[idx]\n",
    "        k_experimental.append(len(data_temp[data_temp['Zone'] == 'Greenpoint']))\n",
    "    plt.hist(k_experimental, normed=True)\n",
    "    plt.xlim(0, 25)\n",
    "    plt.show()\n",
    "\n",
    "interact(plot_poisson, n=(1,400,1));\n"
   ]
  },
  {
   "cell_type": "code",
   "execution_count": null,
   "metadata": {
    "collapsed": true
   },
   "outputs": [],
   "source": []
  }
 ],
 "metadata": {
  "anaconda-cloud": {},
  "kernelspec": {
   "display_name": "Python [Root]",
   "language": "python",
   "name": "Python [Root]"
  },
  "language_info": {
   "codemirror_mode": {
    "name": "ipython",
    "version": 3
   },
   "file_extension": ".py",
   "mimetype": "text/x-python",
   "name": "python",
   "nbconvert_exporter": "python",
   "pygments_lexer": "ipython3",
   "version": "3.5.2"
  }
 },
 "nbformat": 4,
 "nbformat_minor": 0
}
